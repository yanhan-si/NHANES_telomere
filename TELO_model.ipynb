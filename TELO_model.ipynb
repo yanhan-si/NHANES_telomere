{
 "cells": [
  {
   "cell_type": "markdown",
   "metadata": {},
   "source": [
    "python 3\n",
    "79: -------------------------------------------------------------------------\n",
    "This script uses regression analysis to understand the relationhip\n",
    "between telomere average ratio (as an outcome) and explanatory factors\n",
    "including age, sex, BMI, and ethnicity.  The analysis is based on\n",
    "fitting linear models using ordinary least squares, with mean T/S ratio \n",
    "(telomere length relative to standard reference DNA)\n",
    "as the dependent variable, and the explanatory factors as\n",
    "covariates (independent variables).  All models contain the same\n",
    "four explanatory variables, but the models are parameterized in\n",
    "different ways.  Some models are very simple while others have\n",
    "nonlinear terms and interactions.\n",
    "\n",
    "The different models are assessed by plotting fitted values for\n",
    "various subpopulations.  Since all of the regression functions are\n",
    "well over 3-dimensional, we can plot E[Y|X] against one component of\n",
    "X, while holding the other components of X equal to reference\n",
    "values.  For example, we can plot the fitted mean T/S ratio as\n",
    "a function of age, for each sex, for each ethnic group, and for\n",
    "people with average BMI.\n",
    "Updated: Nov 26, 2020\n",
    "79: -------------------------------------------------------------------------"
   ]
  },
  {
   "cell_type": "code",
   "execution_count": null,
   "metadata": {},
   "outputs": [],
   "source": [
    "import numpy as np\n",
    "import statsmodels.api as sm\n",
    "from data_prep import get_data\n",
    "from matplotlib.backends.backend_pdf import PdfPages\n",
    "import matplotlib.pyplot as plt\n",
    "import statsmodels.api as sm"
   ]
  },
  {
   "cell_type": "code",
   "execution_count": null,
   "metadata": {
    "lines_to_next_cell": 1
   },
   "outputs": [],
   "source": [
    "dx = get_data(1999)"
   ]
  },
  {
   "cell_type": "code",
   "execution_count": null,
   "metadata": {
    "lines_to_next_cell": 1
   },
   "outputs": [],
   "source": [
    "def plot_fit_by_age(result, fml):\n",
    "\n",
    "    # Create a dataframe in which all variables are at the reference\n",
    "    # level\n",
    "    da = dx.iloc[0:100, :].copy()\n",
    "    da[\"RIDAGEYR\"] = np.linspace(18, 80, 100)\n",
    "    da[\"RIDRETH1\"] = \"OH\"\n",
    "\n",
    "    plt.figure(figsize=(8, 5))\n",
    "    plt.clf()\n",
    "    plt.axes([0.1, 0.1, 0.66, 0.8])\n",
    "    plt.grid(True)\n",
    "\n",
    "    for female in 0, 1:\n",
    "        for bmi in 22, 26, 31:\n",
    "\n",
    "            db = da.copy()\n",
    "            db.Female = female\n",
    "            db.BMXBMI = bmi\n",
    "\n",
    "            pr = result.predict(exog=db)\n",
    "\n",
    "            la = \"Female\" if female == 1 else \"Male\"\n",
    "            la += \", BMI=%.0f\" % bmi\n",
    "            plt.plot(da.RIDAGEYR.values, pr.values, '-', label=la)\n",
    "\n",
    "    ha, lb = plt.gca().get_legend_handles_labels()\n",
    "    leg = plt.figlegend(ha, lb, \"center right\")\n",
    "    leg.draw_frame(False)\n",
    "\n",
    "    plt.xlabel(\"Age (years)\", size=15)\n",
    "    plt.ylabel(\"T/S ratio\", size=15)\n",
    "    plt.title(fml, size=11)\n",
    "    plt.title(fml, fontdict={\"fontsize\": 9})\n",
    "    pdf.savefig()\n",
    "\n",
    "    i0 = result.resid < 0\n",
    "    i1 = result.resid > 0\n",
    "    nresid = -result.resid[i0]\n",
    "    age = result.model.data.frame.RIDAGEYR\n",
    "    nage = age[i0]\n",
    "    presid = result.resid[i1]\n",
    "    page = age[i1]\n",
    "    x1 = sm.nonparametric.lowess(presid, page, frac=0.5)\n",
    "    x0 = sm.nonparametric.lowess(nresid, nage, frac=0.5)\n",
    "    plt.clf()\n",
    "    plt.axes([0.1, 0.1, 0.73, 0.8])\n",
    "    plt.grid(True)\n",
    "    plt.plot(x0[:, 0], x0[:, 1], '-', label='Negative')\n",
    "    plt.plot(x1[:, 0], x1[:, 1], '-', label='Positive')\n",
    "    ha, lb = plt.gca().get_legend_handles_labels()\n",
    "    leg = plt.figlegend(ha, lb, \"center right\")\n",
    "    leg.draw_frame(False)\n",
    "    plt.xlabel(\"Age\", size=15)\n",
    "    plt.ylabel(\"Expected absolute residual\", size=15)\n",
    "    pdf.savefig()"
   ]
  },
  {
   "cell_type": "code",
   "execution_count": null,
   "metadata": {
    "lines_to_next_cell": 1
   },
   "outputs": [],
   "source": [
    "def plot_fit_by_bmi(result, fml):\n",
    "\n",
    "    # Create a dataframe in which all variables are at the reference\n",
    "    # level\n",
    "    da = dx.iloc[0:100, :].copy()\n",
    "    da[\"BMXBMI\"] = np.linspace(15, 35, 100)\n",
    "    da[\"RIDRETH1\"] = \"OH\"\n",
    "\n",
    "    plt.figure(figsize=(8, 5))\n",
    "    plt.clf()\n",
    "    plt.axes([0.1, 0.1, 0.66, 0.8])\n",
    "    plt.grid(True)\n",
    "\n",
    "    for female in 0, 1:\n",
    "        for age in 25, 50, 75:\n",
    "\n",
    "            db = da.copy()\n",
    "            db.Female = female\n",
    "            db.RIDAGEYR = age\n",
    "\n",
    "            pr = result.predict(exog=db)\n",
    "\n",
    "            la = \"Female\" if female == 1 else \"Male\"\n",
    "            la += \", age=%.0f\" % age\n",
    "            plt.plot(da.BMXBMI.values, pr.values, '-', label=la)\n",
    "\n",
    "    ha, lb = plt.gca().get_legend_handles_labels()\n",
    "    leg = plt.figlegend(ha, lb, \"center right\")\n",
    "    leg.draw_frame(False)\n",
    "\n",
    "    plt.xlabel(\"BMI (kg/m^2)\", size=15)\n",
    "    plt.ylabel(\"T/S ratio\", size=15)\n",
    "    plt.title(fml, fontdict={\"fontsize\": 9})\n",
    "    pdf.savefig()"
   ]
  },
  {
   "cell_type": "code",
   "execution_count": null,
   "metadata": {
    "lines_to_next_cell": 1
   },
   "outputs": [],
   "source": [
    "def plot_basis(xv, xmat, names, degf):\n",
    "\n",
    "    ii = np.argsort(xv)\n",
    "    xv = xv[ii]\n",
    "    xmat = xmat[ii, :]\n",
    "\n",
    "    plt.clf()\n",
    "    plt.grid(True)\n",
    "\n",
    "    for k in range(degf):\n",
    "        vn = \"bs(RIDAGEYR, 5)[%d]\" % k\n",
    "        pos = names.index(vn)\n",
    "        plt.plot(xv, xmat[:, pos], '-', rasterized=True)\n",
    "\n",
    "    plt.xlabel(\"Age (years)\", size=15)\n",
    "    plt.ylabel(\"Basis function value\", size=15)\n",
    "    plt.title(\"Spline basis for age (5 df)\")\n",
    "    pdf.savefig()"
   ]
  },
  {
   "cell_type": "code",
   "execution_count": null,
   "metadata": {
    "lines_to_next_cell": 1
   },
   "outputs": [],
   "source": [
    "def plot_fit_by_age_race(result, fml):\n",
    "\n",
    "    # Create a dataframe in which all variables are at the reference\n",
    "    # level\n",
    "    da = dx.iloc[0:100, :].copy()\n",
    "    da[\"RIDAGEYR\"] = np.linspace(18, 80, 100)\n",
    "    da[\"BMXBMI\"] = 22\n",
    "\n",
    "    plt.figure(figsize=(8, 5))\n",
    "    plt.clf()\n",
    "    plt.axes([0.1, 0.1, 0.62, 0.8])\n",
    "    plt.grid(True)\n",
    "\n",
    "    for female in 0, 1:\n",
    "        for race in \"MA\", \"NHW\", \"NHB\", \"OR\", \"OH\":\n",
    "\n",
    "            db = da.copy()\n",
    "            db.Female = female\n",
    "            db.RIDRETH1 = race\n",
    "\n",
    "            pr = result.predict(exog=db)\n",
    "\n",
    "            la = \"Female\" if female == 1 else \"Male\"\n",
    "            la += \", Ethnicity=%s\" % race\n",
    "            plt.plot(da.RIDAGEYR.values, pr.values, '-', label=la)\n",
    "\n",
    "    ha, lb = plt.gca().get_legend_handles_labels()\n",
    "    leg = plt.figlegend(ha, lb, \"center right\")\n",
    "    leg.draw_frame(False)\n",
    "\n",
    "    plt.xlabel(\"Age (years)\", size=15)\n",
    "    plt.ylabel(\"T/S ratio\", size=15)\n",
    "    plt.title(fml, size=11)\n",
    "    plt.title(fml, fontdict={\"fontsize\": 9})\n",
    "    pdf.savefig()"
   ]
  },
  {
   "cell_type": "code",
   "execution_count": null,
   "metadata": {},
   "outputs": [],
   "source": [
    "pdf = PdfPages(\"telo_model.pdf\")"
   ]
  },
  {
   "cell_type": "code",
   "execution_count": null,
   "metadata": {},
   "outputs": [],
   "source": [
    "# Main effects only (additive, linear model)\n",
    "fml0 = \"TELOMEAN ~ RIDAGEYR + BMXBMI + Female + RIDRETH1\"\n",
    "model0 = sm.OLS.from_formula(fml0, data=dx)\n",
    "result0 = model0.fit()\n",
    "plot_fit_by_age(result0, fml0)\n",
    "plot_fit_by_bmi(result0, fml0)"
   ]
  },
  {
   "cell_type": "code",
   "execution_count": null,
   "metadata": {},
   "outputs": [],
   "source": [
    "# Interactions but no nonlinearities\n",
    "fml1 = \"TELOMEAN ~ (RIDAGEYR + BMXBMI) * Female + RIDRETH1\"\n",
    "model1 = sm.OLS.from_formula(fml1, data=dx)\n",
    "result1 = model1.fit()\n",
    "plot_fit_by_age(result1, fml1)\n",
    "plot_fit_by_bmi(result1, fml1)"
   ]
  },
  {
   "cell_type": "code",
   "execution_count": null,
   "metadata": {},
   "outputs": [],
   "source": [
    "# Nonlinearities but no interactions\n",
    "fml2 = \"TELOMEAN ~ bs(RIDAGEYR, 5) + bs(BMXBMI, 5) + Female + RIDRETH1\"\n",
    "model2 = sm.OLS.from_formula(fml2, data=dx)\n",
    "result2 = model2.fit()\n",
    "plot_fit_by_age(result2, fml2)\n",
    "plot_fit_by_bmi(result2, fml2)"
   ]
  },
  {
   "cell_type": "code",
   "execution_count": null,
   "metadata": {},
   "outputs": [],
   "source": [
    "plot_basis(dx.RIDAGEYR.values, result2.model.exog, result2.model.exog_names, 5)"
   ]
  },
  {
   "cell_type": "code",
   "execution_count": null,
   "metadata": {},
   "outputs": [],
   "source": [
    "# Use AIC to select the degrees of freedom for age and BMI, each of\n",
    "# which is modeled using spline basis functions.\n",
    "aic = np.zeros((15, 15)) + np.nan\n",
    "for age_df in range(3, 15):\n",
    "    for bmi_df in range(3, 15):\n",
    "        fml3 = \"TELOMEAN ~ bs(RIDAGEYR, age_df) + bs(BMXBMI, bmi_df) + Female + RIDRETH1\"\n",
    "        model3 = sm.OLS.from_formula(fml3, data=dx)\n",
    "        result3 = model3.fit()\n",
    "        aic[age_df, bmi_df] = result3.aic"
   ]
  },
  {
   "cell_type": "code",
   "execution_count": null,
   "metadata": {},
   "outputs": [],
   "source": [
    "# Make a heatmap of the AIC values, so we can see where the best fit\n",
    "# is.\n",
    "plt.clf()\n",
    "plt.imshow(aic, interpolation=\"nearest\")\n",
    "plt.xlabel(\"BMI df\", size=15)\n",
    "plt.ylabel(\"Age df\", size=15)\n",
    "plt.colorbar()\n",
    "plt.xlim(3, 14)\n",
    "plt.ylim(3, 14)\n",
    "pdf.savefig()"
   ]
  },
  {
   "cell_type": "code",
   "execution_count": null,
   "metadata": {},
   "outputs": [],
   "source": [
    "# This is the additive spline-based model that is optimal in terms of\n",
    "# degrees of freedom, as selected by AIC.\n",
    "fml4 = \"TELOMEAN ~ bs(RIDAGEYR, 6) + bs(BMXBMI, 5) + Female + RIDRETH1\"\n",
    "model4 = sm.OLS.from_formula(fml4, data=dx)\n",
    "result4 = model4.fit()\n",
    "plot_fit_by_age(result4, fml4)\n",
    "plot_fit_by_bmi(result4, fml4)"
   ]
  },
  {
   "cell_type": "code",
   "execution_count": null,
   "metadata": {},
   "outputs": [],
   "source": [
    "# This is a polynomial model, provided only for comparison\n",
    "fml5 = \"TELOMEAN ~ RIDAGEYR + I(RIDAGEYR**2) + I(RIDAGEYR**3) + BMXBMI + I(BMXBMI**2) + I(BMXBMI**3) + Female + RIDRETH1\"\n",
    "model5 = sm.OLS.from_formula(fml5, data=dx)\n",
    "result5 = model5.fit()\n",
    "plot_fit_by_age(result5, fml5)\n",
    "plot_fit_by_bmi(result5, fml5)"
   ]
  },
  {
   "cell_type": "code",
   "execution_count": null,
   "metadata": {},
   "outputs": [],
   "source": [
    "# This is another polynomial model\n",
    "fml6 = \"TELOMEAN ~ RIDAGEYR + I(RIDAGEYR**2) + I(RIDAGEYR**3) + I(RIDAGEYR**4) + I(RIDAGEYR**5) + BMXBMI + I(BMXBMI**2) + I(BMXBMI**3) + I(BMXBMI**4) + I(BMXBMI**5) + Female + RIDRETH1\"\n",
    "model6 = sm.OLS.from_formula(fml6, data=dx)\n",
    "result6 = model6.fit()\n",
    "plot_fit_by_age(result6, fml6)\n",
    "plot_fit_by_bmi(result6, fml6)"
   ]
  },
  {
   "cell_type": "code",
   "execution_count": null,
   "metadata": {},
   "outputs": [],
   "source": [
    "# Take model 5 above and allow the curves to vary by sex\n",
    "fml7 = \"TELOMEAN ~ (bs(RIDAGEYR, 6) + bs(BMXBMI, 5)) * Female + RIDRETH1\"\n",
    "model7 = sm.OLS.from_formula(fml7, data=dx)\n",
    "result7 = model7.fit()\n",
    "plot_fit_by_age(result7, fml7)\n",
    "plot_fit_by_bmi(result7, fml7)"
   ]
  },
  {
   "cell_type": "code",
   "execution_count": null,
   "metadata": {},
   "outputs": [],
   "source": [
    "# Now include interactions between age and BMI, along with the other\n",
    "# interactions, but the role of BMI is conditionally linear\n",
    "fml8 = \"TELOMEAN ~ bs(RIDAGEYR, 5) * BMXBMI * Female + RIDRETH1\"\n",
    "model8 = sm.OLS.from_formula(fml8, data=dx)\n",
    "result8 = model8.fit()\n",
    "plot_fit_by_age(result8, fml8)\n",
    "plot_fit_by_bmi(result8, fml8)"
   ]
  },
  {
   "cell_type": "code",
   "execution_count": null,
   "metadata": {},
   "outputs": [],
   "source": [
    "# This is similar to the model above, except that BMI is now allowed\n",
    "# to be nonlinear\n",
    "fml9 = \"TELOMEAN ~ bs(RIDAGEYR, 5) * bs(BMXBMI, 4) * Female + RIDRETH1\"\n",
    "model9 = sm.OLS.from_formula(fml9, data=dx)\n",
    "result9 = model9.fit()\n",
    "plot_fit_by_age(result9, fml9)\n",
    "plot_fit_by_bmi(result9, fml9)"
   ]
  },
  {
   "cell_type": "code",
   "execution_count": null,
   "metadata": {},
   "outputs": [],
   "source": [
    "# Model a common nonlinear structure for age and BMI using splines,\n",
    "# then allow these curves to be translated\n",
    "fml10 = \"TELOMEAN ~ bs(RIDAGEYR, 5) + bs(BMXBMI, 4) + Female * RIDRETH1\"\n",
    "model10 = sm.OLS.from_formula(fml10, data=dx)\n",
    "result10 = model10.fit()\n",
    "plot_fit_by_age_race(result10, fml10)"
   ]
  },
  {
   "cell_type": "code",
   "execution_count": null,
   "metadata": {},
   "outputs": [],
   "source": [
    "# Model common nonlinear curves for BMI and age using splines, and\n",
    "# allow these common curves to vary in a linear manner by age gender\n",
    "# and ethnicity.\n",
    "fml11 = \"TELOMEAN ~ bs(BMXBMI, 4) + bs(RIDAGEYR, 5) + RIDAGEYR * Female * RIDRETH1\"\n",
    "model11 = sm.OLS.from_formula(fml11, data=dx)\n",
    "result11 = model11.fit()\n",
    "plot_fit_by_age_race(result11, fml11)"
   ]
  },
  {
   "cell_type": "code",
   "execution_count": null,
   "metadata": {},
   "outputs": [],
   "source": [
    "pdf.close()"
   ]
  }
 ],
 "metadata": {
  "jupytext": {
   "cell_metadata_filter": "-all",
   "main_language": "python",
   "notebook_metadata_filter": "-all"
  }
 },
 "nbformat": 4,
 "nbformat_minor": 4
}
